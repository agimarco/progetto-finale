{
 "cells": [
  {
   "cell_type": "code",
   "execution_count": 1,
   "metadata": {},
   "outputs": [],
   "source": [
    "import os\n",
    "import tensorflow as tf"
   ]
  },
  {
   "cell_type": "code",
   "execution_count": 2,
   "metadata": {},
   "outputs": [],
   "source": [
    "tf.compat.v1.disable_eager_execution()"
   ]
  },
  {
   "cell_type": "code",
   "execution_count": 19,
   "metadata": {},
   "outputs": [],
   "source": [
    "# MLP\n",
    "N_TRIALS = 10"
   ]
  },
  {
   "cell_type": "code",
   "execution_count": 20,
   "metadata": {},
   "outputs": [],
   "source": [
    "for i in range(1,N_TRIALS+1):\n",
    "    summary_writer = tf.compat.v1.summary.FileWriter(\"resized_logs/ddqn_duckietown_Model_\"+str(i))\n",
    "    path = 'logs/ddqn_duckietown_Model_'+str(i)\n",
    "    event_file = os.listdir(path)[0]\n",
    "    path = os.path.join(path, event_file)\n",
    "    for e in tf.compat.v1.train.summary_iterator(path):\n",
    "        for v in e.summary.value:\n",
    "            if v.tag == 'average_reward_per_500steps':\n",
    "                summary_writer.add_event(e)\n",
    "                summary_writer.flush()\n",
    "            elif v.tag == 'cumulative_reward_per_500steps':\n",
    "                summary_writer.add_event(e)\n",
    "                summary_writer.flush()\n",
    "            elif v.tag == 'mean_q_values_per_500steps':\n",
    "                summary_writer.add_event(e)\n",
    "                summary_writer.flush()\n",
    "            elif v.tag == 'avg_loss_per_500steps':\n",
    "                summary_writer.add_event(e)\n",
    "                summary_writer.flush()\n",
    "            elif v.tag == 'avg_loss_per_episode':\n",
    "                summary_writer.add_event(e)\n",
    "                summary_writer.flush()\n",
    "            elif v.tag == 'average_reward_per_episode':\n",
    "                summary_writer.add_event(e)\n",
    "                summary_writer.flush()\n",
    "            elif v.tag == 'cumulative_reward_per_episode':\n",
    "                summary_writer.add_event(e)\n",
    "                summary_writer.flush()\n",
    "            elif v.tag == 'mean_q_values_per_episode':\n",
    "                summary_writer.add_event(e)\n",
    "                summary_writer.flush()\n",
    "            elif v.tag == 'steps_per_episode':\n",
    "                summary_writer.add_event(e)\n",
    "                summary_writer.flush()"
   ]
  },
  {
   "cell_type": "code",
   "execution_count": 21,
   "metadata": {},
   "outputs": [],
   "source": [
    "summary_writer = tf.compat.v1.summary.FileWriter(\"resized_logs/dqn_duckietown_DQNModel_1\")\n",
    "path = 'logs/dqn_duckietown_DQNModel_1'\n",
    "event_file = os.listdir(path)[0]\n",
    "path = os.path.join(path, event_file)\n",
    "for e in tf.compat.v1.train.summary_iterator(path):\n",
    "    for v in e.summary.value:\n",
    "        if v.tag == 'average_reward_per_500steps':\n",
    "            summary_writer.add_event(e)\n",
    "            summary_writer.flush()\n",
    "        elif v.tag == 'cumulative_reward_per_500steps':\n",
    "            summary_writer.add_event(e)\n",
    "            summary_writer.flush()\n",
    "        elif v.tag == 'mean_q_values_per_500steps':\n",
    "            summary_writer.add_event(e)\n",
    "            summary_writer.flush()\n",
    "        elif v.tag == 'avg_loss_per_500steps':\n",
    "            summary_writer.add_event(e)\n",
    "            summary_writer.flush()\n",
    "        elif v.tag == 'avg_loss_per_episode':\n",
    "            summary_writer.add_event(e)\n",
    "            summary_writer.flush()\n",
    "        elif v.tag == 'average_reward_per_episode':\n",
    "            summary_writer.add_event(e)\n",
    "            summary_writer.flush()\n",
    "        elif v.tag == 'cumulative_reward_per_episode':\n",
    "            summary_writer.add_event(e)\n",
    "            summary_writer.flush()\n",
    "        elif v.tag == 'mean_q_values_per_episode':\n",
    "            summary_writer.add_event(e)\n",
    "            summary_writer.flush()\n",
    "        elif v.tag == 'steps_per_episode':\n",
    "            summary_writer.add_event(e)\n",
    "            summary_writer.flush()\n",
    "        "
   ]
  },
  {
   "cell_type": "code",
   "execution_count": 22,
   "metadata": {},
   "outputs": [],
   "source": [
    "summary_writer = tf.compat.v1.summary.FileWriter(\"resized_logs/dqn_duckietown_DQN_NoTarget_Model_1\")\n",
    "path = 'logs/dqn_duckietown_DQN_NoTarget_Model_1'\n",
    "event_file = os.listdir(path)[0]\n",
    "path = os.path.join(path, event_file)\n",
    "for e in tf.compat.v1.train.summary_iterator(path):\n",
    "    for v in e.summary.value:\n",
    "        if v.tag == 'average_reward_per_500steps':\n",
    "            summary_writer.add_event(e)\n",
    "            summary_writer.flush()\n",
    "        elif v.tag == 'cumulative_reward_per_500steps':\n",
    "            summary_writer.add_event(e)\n",
    "            summary_writer.flush()\n",
    "        elif v.tag == 'mean_q_values_per_500steps':\n",
    "            summary_writer.add_event(e)\n",
    "            summary_writer.flush()\n",
    "        elif v.tag == 'avg_loss_per_500steps':\n",
    "            summary_writer.add_event(e)\n",
    "            summary_writer.flush()\n",
    "        elif v.tag == 'avg_loss_per_episode':\n",
    "            summary_writer.add_event(e)\n",
    "            summary_writer.flush()\n",
    "        elif v.tag == 'average_reward_per_episode':\n",
    "            summary_writer.add_event(e)\n",
    "            summary_writer.flush()\n",
    "        elif v.tag == 'cumulative_reward_per_episode':\n",
    "            summary_writer.add_event(e)\n",
    "            summary_writer.flush()\n",
    "        elif v.tag == 'mean_q_values_per_episode':\n",
    "            summary_writer.add_event(e)\n",
    "            summary_writer.flush()\n",
    "        elif v.tag == 'steps_per_episode':\n",
    "            summary_writer.add_event(e)\n",
    "            summary_writer.flush()"
   ]
  },
  {
   "cell_type": "code",
   "execution_count": 3,
   "metadata": {},
   "outputs": [],
   "source": [
    "# CNN\n",
    "N_TRIALS = 5"
   ]
  },
  {
   "cell_type": "code",
   "execution_count": 4,
   "metadata": {},
   "outputs": [
    {
     "name": "stdout",
     "output_type": "stream",
     "text": [
      "WARNING:tensorflow:From /home/marco/anaconda3/envs/gym-duckietown-tf2/lib/python3.6/site-packages/tensorflow_core/python/summary/summary_iterator.py:68: tf_record_iterator (from tensorflow.python.lib.io.tf_record) is deprecated and will be removed in a future version.\n",
      "Instructions for updating:\n",
      "Use eager execution and: \n",
      "`tf.data.TFRecordDataset(path)`\n"
     ]
    }
   ],
   "source": [
    "for i in range(1,N_TRIALS+1):\n",
    "    summary_writer = tf.compat.v1.summary.FileWriter(\"resized_logs_cnn/ddqn_duckietown_cnn_Model_\"+str(i))\n",
    "    path = 'logs_cnn/ddqn_duckietown_cnn_Model_'+str(i)\n",
    "    event_file = os.listdir(path)[0]\n",
    "    path = os.path.join(path, event_file)\n",
    "    for e in tf.compat.v1.train.summary_iterator(path):\n",
    "        for v in e.summary.value:\n",
    "            if v.tag == 'average_reward_per_500steps':\n",
    "                summary_writer.add_event(e)\n",
    "                summary_writer.flush()\n",
    "            elif v.tag == 'cumulative_reward_per_500steps':\n",
    "                summary_writer.add_event(e)\n",
    "                summary_writer.flush()\n",
    "            elif v.tag == 'mean_q_values_per_500steps':\n",
    "                summary_writer.add_event(e)\n",
    "                summary_writer.flush()\n",
    "            elif v.tag == 'avg_loss_per_500steps':\n",
    "                summary_writer.add_event(e)\n",
    "                summary_writer.flush()\n",
    "            elif v.tag == 'avg_loss_per_episode':\n",
    "                summary_writer.add_event(e)\n",
    "                summary_writer.flush()\n",
    "            elif v.tag == 'average_reward_per_episode':\n",
    "                summary_writer.add_event(e)\n",
    "                summary_writer.flush()\n",
    "            elif v.tag == 'cumulative_reward_per_episode':\n",
    "                summary_writer.add_event(e)\n",
    "                summary_writer.flush()\n",
    "            elif v.tag == 'mean_q_values_per_episode':\n",
    "                summary_writer.add_event(e)\n",
    "                summary_writer.flush()\n",
    "            elif v.tag == 'steps_per_episode':\n",
    "                summary_writer.add_event(e)\n",
    "                summary_writer.flush()"
   ]
  },
  {
   "cell_type": "code",
   "execution_count": 5,
   "metadata": {},
   "outputs": [
    {
     "name": "stdout",
     "output_type": "stream",
     "text": [
      "WARNING:tensorflow:From /home/marco/anaconda3/envs/gym-duckietown-tf2/lib/python3.6/site-packages/tensorflow_core/python/summary/summary_iterator.py:68: tf_record_iterator (from tensorflow.python.lib.io.tf_record) is deprecated and will be removed in a future version.\n",
      "Instructions for updating:\n",
      "Use eager execution and: \n",
      "`tf.data.TFRecordDataset(path)`\n"
     ]
    }
   ],
   "source": [
    "summary_writer = tf.compat.v1.summary.FileWriter(\"resized_logs_cnn/dqn_duckietown_cnn_DQNModel_1\")\n",
    "path = 'logs_cnn/ddqn_duckietown_cnn_DQNModel_1'\n",
    "event_file = os.listdir(path)[0]\n",
    "path = os.path.join(path, event_file)\n",
    "for e in tf.compat.v1.train.summary_iterator(path):\n",
    "    for v in e.summary.value:\n",
    "        if v.tag == 'average_reward_per_500steps':\n",
    "            summary_writer.add_event(e)\n",
    "            summary_writer.flush()\n",
    "        elif v.tag == 'cumulative_reward_per_500steps':\n",
    "            summary_writer.add_event(e)\n",
    "            summary_writer.flush()\n",
    "        elif v.tag == 'mean_q_values_per_500steps':\n",
    "            summary_writer.add_event(e)\n",
    "            summary_writer.flush()\n",
    "        elif v.tag == 'avg_loss_per_500steps':\n",
    "            summary_writer.add_event(e)\n",
    "            summary_writer.flush()\n",
    "        elif v.tag == 'avg_loss_per_episode':\n",
    "            summary_writer.add_event(e)\n",
    "            summary_writer.flush()\n",
    "        elif v.tag == 'average_reward_per_episode':\n",
    "            summary_writer.add_event(e)\n",
    "            summary_writer.flush()\n",
    "        elif v.tag == 'cumulative_reward_per_episode':\n",
    "            summary_writer.add_event(e)\n",
    "            summary_writer.flush()\n",
    "        elif v.tag == 'mean_q_values_per_episode':\n",
    "            summary_writer.add_event(e)\n",
    "            summary_writer.flush()\n",
    "        elif v.tag == 'steps_per_episode':\n",
    "            summary_writer.add_event(e)\n",
    "            summary_writer.flush()"
   ]
  },
  {
   "cell_type": "code",
   "execution_count": null,
   "metadata": {},
   "outputs": [],
   "source": []
  }
 ],
 "metadata": {
  "kernelspec": {
   "display_name": "Python 3.6.12 64-bit ('gym-duckietown-tf2': conda)",
   "language": "python",
   "name": "python361264bitgymduckietowntf2conda51bfd639e069407aa47e7e2458580119"
  },
  "language_info": {
   "codemirror_mode": {
    "name": "ipython",
    "version": 3
   },
   "file_extension": ".py",
   "mimetype": "text/x-python",
   "name": "python",
   "nbconvert_exporter": "python",
   "pygments_lexer": "ipython3",
   "version": "3.6.10"
  }
 },
 "nbformat": 4,
 "nbformat_minor": 4
}
